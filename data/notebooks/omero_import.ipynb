{
 "cells": [
  {
   "cell_type": "code",
   "execution_count": 10,
   "id": "a9d8ad02",
   "metadata": {},
   "outputs": [
    {
     "name": "stdout",
     "output_type": "stream",
     "text": [
      "ome-test2-omero-server\n"
     ]
    },
    {
     "name": "stderr",
     "output_type": "stream",
     "text": [
      "Using session for root@localhost:4064. Idle timeout: 10 min. Current group: system\n",
      "Using session for root@localhost:4064. Idle timeout: 10 min. Current group: system\n"
     ]
    },
    {
     "name": "stdout",
     "output_type": "stream",
     "text": [
      "b'Dataset:4\\n' <class 'bytes'>\n"
     ]
    },
    {
     "name": "stderr",
     "output_type": "stream",
     "text": [
      "usage: /opt/omero/server/venv3/bin/omero [-h] [-v] [-d DEBUG] [--path PATH]\n",
      "                                         [-C] [-s SERVER] [-p PORT] [-g GROUP]\n",
      "                                         [-u USER] [-w PASSWORD] [-k KEY]\n",
      "                                         [--sudo ADMINUSER] [-q]\n",
      "                                         <subcommand> ...\n",
      "/opt/omero/server/venv3/bin/omero: error: argument <subcommand>: invalid choice: 'OMERO/share'\n",
      "\n",
      "choose from:\n",
      "\tadmin, certificates, chgrp, chown, config, db, delete, download, \n",
      "\terrors, export, fs, group, help, hql, import, ldap, load, login, \n",
      "\tlogout, node, obj, perf, quit, script, search, sessions, shell, \n",
      "\ttag, testengine, upload, user, version\n"
     ]
    },
    {
     "data": {
      "text/plain": [
       "2"
      ]
     },
     "execution_count": 10,
     "metadata": {},
     "output_type": "execute_result"
    }
   ],
   "source": [
    "import docker\n",
    "import subprocess\n",
    "\n",
    "client = docker.from_env()\n",
    "running_containers = client.containers.list()\n",
    "sharedir = \"share\" \n",
    "\n",
    "for cont in running_containers:\n",
    "    if \"omero\" and \"server\" in cont.name:\n",
    "        print(cont.name)\n",
    "        ome_server = cont.name\n",
    "        break\n",
    "        \n",
    "subprocess.call([\"docker\", \"exec\", ome_server, \"/opt/omero/server/OMERO.server/bin/omero\", \"-s\" \"localhost\", \"-u\", \"root\", \"login\", \"-w\", \"omero\"])\n",
    "test = subprocess.check_output([\"docker\", \"exec\", ome_server, \"/opt/omero/server/OMERO.server/bin/omero\", \"obj\", \"new\", \"Dataset\", \"name=annotation_dummies\"])\n",
    "print(test, type(test))\n",
    "subprocess.call([\"docker\", \"exec\", ome_server, \"/opt/omero/server/OMERO.server/bin/omero\", \"-d\", test, \"--transfer=ln_s\", \"OMERO/{}\".format(sharedir)])"
   ]
  },
  {
   "cell_type": "code",
   "execution_count": null,
   "id": "7d0e6ba4",
   "metadata": {},
   "outputs": [],
   "source": []
  }
 ],
 "metadata": {
  "kernelspec": {
   "display_name": "Python 3 (ipykernel)",
   "language": "python",
   "name": "python3"
  },
  "language_info": {
   "codemirror_mode": {
    "name": "ipython",
    "version": 3
   },
   "file_extension": ".py",
   "mimetype": "text/x-python",
   "name": "python",
   "nbconvert_exporter": "python",
   "pygments_lexer": "ipython3",
   "version": "3.9.6"
  }
 },
 "nbformat": 4,
 "nbformat_minor": 5
}
