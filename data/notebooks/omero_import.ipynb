{
 "cells": [
  {
   "cell_type": "code",
   "execution_count": 2,
   "id": "a9d8ad02",
   "metadata": {},
   "outputs": [
    {
     "name": "stdout",
     "output_type": "stream",
     "text": [
      "ome-test-omero-server\n"
     ]
    },
    {
     "data": {
      "text/plain": [
       "0"
      ]
     },
     "execution_count": 2,
     "metadata": {},
     "output_type": "execute_result"
    }
   ],
   "source": [
    "import docker\n",
    "import subprocess\n",
    "\n",
    "client = docker.from_env()\n",
    "running_containers = client.containers.list()\n",
    "sharedir = \"share\" \n",
    "\n",
    "for cont in running_containers:\n",
    "    if \"omero\" and \"server\" in cont.name:\n",
    "        print(cont.name)\n",
    "        ome_server = cont.name\n",
    "        break\n",
    "        \n",
    "subprocess.call([\"docker\", \"exec\", ome_server, \"/opt/omero/server/OMERO.server/bin/omero\", \"-s\" \"localhost\", \"-u\", \"root\", \"login\", \"-w\", \"omero\"])\n",
    "test = subprocess.check_output([\"docker\", \"exec\", ome_server, \"/opt/omero/server/OMERO.server/bin/omero\", \"obj\", \"new\", \"Dataset\", \"name=annotation_dummies\"])\n",
    "test = test.decode().strip()\n",
    "subprocess.call([\"docker\", \"exec\", ome_server, \"/opt/omero/server/OMERO.server/bin/omero\", \"import\", \"-d\", test, \"--transfer=ln_s\", \"/OMERO/{}\".format(sharedir)])"
   ]
  },
  {
   "cell_type": "code",
   "execution_count": 27,
   "id": "7d0e6ba4",
   "metadata": {},
   "outputs": [
    {
     "ename": "SyntaxError",
     "evalue": "invalid syntax (<ipython-input-27-472ff2247d5e>, line 68)",
     "output_type": "error",
     "traceback": [
      "\u001b[0;36m  File \u001b[0;32m\"<ipython-input-27-472ff2247d5e>\"\u001b[0;36m, line \u001b[0;32m68\u001b[0m\n\u001b[0;31m    dataset_dict.update{{d.id:[d.name]}}\u001b[0m\n\u001b[0m                       ^\u001b[0m\n\u001b[0;31mSyntaxError\u001b[0m\u001b[0;31m:\u001b[0m invalid syntax\n"
     ]
    }
   ],
   "source": [
    "from omero.gateway import BlitzGateway, MapAnnotationWrapper\n",
    "from omero.model import EllipseI\n",
    "\n",
    "\n",
    "class OmeAnnotExtractor():\n",
    "    \"\"\"\n",
    "        Connection Manager and Methods for extracting annotations from an Omero Host\n",
    "        :param ome_server: Host name\n",
    "        :param user: User\n",
    "        :param pw: Password\n",
    "    \"\"\"\n",
    "    \n",
    "    def __init__(self, user, pw, ome_server):\n",
    "        self.user = user\n",
    "        self.pw = pw\n",
    "        self.server = ome_server\n",
    "        self.conn = None\n",
    "    \n",
    "    \n",
    "    def connect(self):\n",
    "        \"\"\"\n",
    "            Connect to an OMERO server\n",
    "        \"\"\"\n",
    "        self.conn = BlitzGateway(self.user, self.pw,\n",
    "                            host=self.server, secure=False)\n",
    "        self.conn.connect()\n",
    "        self.conn.c.enableKeepAlive(60)\n",
    "        \n",
    "        return\n",
    "\n",
    "\n",
    "    def disconnect(self):\n",
    "        \"\"\"\n",
    "            Disconnect from an OMERO server\n",
    "            :param conn: The BlitzGateway\n",
    "        \"\"\"\n",
    "        assert self.conn is not None, \"Connection not established please use \"\n",
    "        self.conn.close()\n",
    "    \n",
    "    def list_projects(self):\n",
    "        \n",
    "        \"\"\"\n",
    "            List the projects available to the current user\n",
    "        \"\"\"\n",
    "        my_exp_id = self.conn.getUser().getId()\n",
    "        default_group_id = self.conn.getEventContext().groupId\n",
    "        projects =  self.conn.getObjects(\"Project\", opts={'owner': my_exp_id,\n",
    "                                            'group': default_group_id,\n",
    "                                            'order_by': 'lower(obj.name)',\n",
    "                                            'limit': 5, 'offset': 0})\n",
    "        for project in projects:\n",
    "            print(project.name)\n",
    "        \n",
    "        return projects\n",
    "    \n",
    "    def select_project(self, sel_project):\n",
    "        projects = self.list_projects()\n",
    "        \n",
    "        \n",
    "    \n",
    "    def list_datasets(self, project):\n",
    "        \"\"\"\n",
    "            List the projects available to the current user\n",
    "            :param projects: List of projects\n",
    "        \"\"\"\n",
    "        dataset_dict = {}\n",
    "        for d in ome_parse.conn.getObjects(\"Dataset\"):\n",
    "            dataset_dict.update{{d.id:[d.name]}}\n",
    "    \n",
    "    def list_images(self):\n",
    "        pass\n",
    "        \n",
    "    def retrieve_geometry():\n",
    "        roi_service = conn.getRoiService()\n",
    "        result = roi_service.findByImage(imageId, None)\n",
    "        for roi in result.rois:\n",
    "            print(\"ROI:  ID:\", roi.getId().getValue())\n",
    "            for s in roi.copyShapes():\n",
    "                shape = {}\n",
    "                shape['id'] = s.getId().getValue()\n",
    "                shape['theT'] = s.getTheT().getValue()\n",
    "                shape['theZ'] = s.getTheZ().getValue()\n",
    "                if s.getTextValue():\n",
    "                    shape['textValue'] = s.getTextValue().getValue()\n",
    "                if type(s) == omero.model.RectangleI:\n",
    "                    shape['type'] = 'Rectangle'\n",
    "                    shape['x'] = s.getX().getValue()\n",
    "                    shape['y'] = s.getY().getValue()\n",
    "                    shape['width'] = s.getWidth().getValue()\n",
    "                    shape['height'] = s.getHeight().getValue()\n",
    "                elif type(s) == omero.model.EllipseI:\n",
    "                    shape['type'] = 'Ellipse'\n",
    "                    shape['x'] = s.getX().getValue()\n",
    "                    shape['y'] = s.getY().getValue()\n",
    "                    shape['radiusX'] = s.getRadiusX().getValue()\n",
    "                    shape['radiusY'] = s.getRadiusY().getValue()\n",
    "                elif type(s) == omero.model.PointI:\n",
    "                    shape['type'] = 'Point'\n",
    "                    shape['x'] = s.getX().getValue()\n",
    "                    shape['y'] = s.getY().getValue()\n",
    "                elif type(s) == omero.model.LineI:\n",
    "                    shape['type'] = 'Line'\n",
    "                    shape['x1'] = s.getX1().getValue()\n",
    "                    shape['x2'] = s.getX2().getValue()\n",
    "                    shape['y1'] = s.getY1().getValue()\n",
    "                    shape['y2'] = s.getY2().getValue()\n",
    "                elif type(s) == omero.model.MaskI:\n",
    "                    shape['type'] = 'Mask'\n",
    "                    shape['x'] = s.getX().getValue()\n",
    "                    shape['y'] = s.getY().getValue()\n",
    "                    shape['width'] = s.getWidth().getValue()\n",
    "                    shape['height'] = s.getHeight().getValue()\n",
    "                elif type(s) in (\n",
    "                        omero.model.LabelI, omero.model.PolygonI):\n",
    "                    print(type(s), \" Not supported by this code\")\n",
    "                # Do some processing here, or just print:\n",
    "                print(\"   Shape:\",)\n",
    "                for key, value in shape.items():\n",
    "                    print(\"  \", key, value,)\n",
    "                print(\"\")"
   ]
  },
  {
   "cell_type": "code",
   "execution_count": 25,
   "id": "d54d5d22",
   "metadata": {},
   "outputs": [
    {
     "name": "stdout",
     "output_type": "stream",
     "text": [
      "annotation_dummies\n",
      "annotation_dummies\n"
     ]
    }
   ],
   "source": [
    "ome_parse = OmeAnnotExtractor(\"root\", \"omero\", ome_server)\n",
    "ome_parse.connect()\n",
    "for d in ome_parse.conn.getObjects(\"Dataset\"):\n",
    "    print(d.name)\n"
   ]
  },
  {
   "cell_type": "code",
   "execution_count": 26,
   "id": "f61e8f1e",
   "metadata": {},
   "outputs": [
    {
     "ename": "ModuleNotFoundError",
     "evalue": "No module named 'pandas'",
     "output_type": "error",
     "traceback": [
      "\u001b[0;31m---------------------------------------------------------------------------\u001b[0m",
      "\u001b[0;31mModuleNotFoundError\u001b[0m                       Traceback (most recent call last)",
      "\u001b[0;32m<ipython-input-26-7dd3504c366f>\u001b[0m in \u001b[0;36m<module>\u001b[0;34m\u001b[0m\n\u001b[0;32m----> 1\u001b[0;31m \u001b[0;32mimport\u001b[0m \u001b[0mpandas\u001b[0m \u001b[0;32mas\u001b[0m \u001b[0mpd\u001b[0m\u001b[0;34m\u001b[0m\u001b[0;34m\u001b[0m\u001b[0m\n\u001b[0m",
      "\u001b[0;31mModuleNotFoundError\u001b[0m: No module named 'pandas'"
     ]
    }
   ],
   "source": [
    "import pandas as pd"
   ]
  },
  {
   "cell_type": "code",
   "execution_count": null,
   "id": "41f84692-0505-4b66-9e73-c8369eb9f598",
   "metadata": {},
   "outputs": [],
   "source": []
  }
 ],
 "metadata": {
  "kernelspec": {
   "display_name": "python36",
   "language": "python",
   "name": "python36"
  },
  "language_info": {
   "codemirror_mode": {
    "name": "ipython",
    "version": 3
   },
   "file_extension": ".py",
   "mimetype": "text/x-python",
   "name": "python",
   "nbconvert_exporter": "python",
   "pygments_lexer": "ipython3",
   "version": "3.6.13"
  },
  "toc-autonumbering": false,
  "toc-showcode": true,
  "toc-showmarkdowntxt": false,
  "toc-showtags": true
 },
 "nbformat": 4,
 "nbformat_minor": 5
}
