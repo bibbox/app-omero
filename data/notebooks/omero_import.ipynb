{
 "cells": [
  {
   "cell_type": "code",
   "execution_count": 9,
   "id": "a9d8ad02",
   "metadata": {},
   "outputs": [
    {
     "name": "stdout",
     "output_type": "stream",
     "text": [
      "ome-test-omero-server\n"
     ]
    },
    {
     "name": "stderr",
     "output_type": "stream",
     "text": [
      "Using session for root@localhost:4064. Idle timeout: 10 min. Current group: system\n",
      "Using session for root@localhost:4064. Idle timeout: 10 min. Current group: system\n",
      "2021-09-28 07:51:34,748 385        [      main] INFO          ome.formats.importer.ImportConfig - OMERO.blitz Version: 5.5.8\n",
      "2021-09-28 07:51:34,766 403        [      main] INFO          ome.formats.importer.ImportConfig - Bioformats version: 6.5.1 revision: 6f50e4d52c9d96112635fd8b2dde737f31041cf0 date: 7 July 2020\n",
      "2021-09-28 07:51:34,816 453        [      main] INFO   formats.importer.cli.CommandLineImporter - Setting transfer to ln_s\n",
      "2021-09-28 07:51:34,819 456        [      main] INFO   formats.importer.cli.CommandLineImporter - Log levels -- Bio-Formats: ERROR OMERO.importer: INFO\n",
      "2021-09-28 07:51:35,167 804        [      main] INFO      ome.formats.importer.ImportCandidates - Depth: 4 Metadata Level: MINIMUM\n",
      "2021-09-28 07:51:35,817 1454       [      main] INFO      ome.formats.importer.ImportCandidates - 5 file(s) parsed into 5 group(s) with 5 call(s) to setId in 645ms. (650ms total) [0 unknowns]\n",
      "2021-09-28 07:51:35,853 1490       [      main] INFO       ome.formats.OMEROMetadataStoreClient - Attempting initial SSL connection to localhost:4064\n",
      "2021-09-28 07:51:36,248 1885       [      main] INFO       ome.formats.OMEROMetadataStoreClient - Insecure connection requested, falling back\n",
      "2021-09-28 07:51:36,547 2184       [      main] INFO       ome.formats.OMEROMetadataStoreClient - Pinging session every 300s.\n",
      "2021-09-28 07:51:36,556 2193       [      main] INFO       ome.formats.OMEROMetadataStoreClient - Server: 5.6.3\n",
      "2021-09-28 07:51:36,557 2194       [      main] INFO       ome.formats.OMEROMetadataStoreClient - Client: 5.5.8\n",
      "2021-09-28 07:51:36,557 2194       [      main] INFO       ome.formats.OMEROMetadataStoreClient - Java Version: 11.0.11\n",
      "2021-09-28 07:51:36,557 2194       [      main] INFO       ome.formats.OMEROMetadataStoreClient - OS Name: Linux\n",
      "2021-09-28 07:51:36,557 2194       [      main] INFO       ome.formats.OMEROMetadataStoreClient - OS Arch: amd64\n",
      "2021-09-28 07:51:36,557 2194       [      main] INFO       ome.formats.OMEROMetadataStoreClient - OS Version: 5.8.0-59-generic\n",
      "2021-09-28 07:51:36,931 2568       [      main] WARN                    ome.system.UpgradeCheck - UPGRADE AVAILABLE:Please upgrade to 5.6.1. See http://downloads.openmicroscopy.org/latest/omero for the latest version.\n",
      "2021-09-28 07:51:37,180 2817       [      main] INFO          ome.formats.importer.ImportConfig - Using import target: Dataset:7\n",
      "2021-09-28 07:51:37,181 2818       [      main] INFO          ome.formats.importer.ImportConfig - Using import target: Dataset:7\n",
      "2021-09-28 07:51:37,181 2818       [      main] INFO          ome.formats.importer.ImportConfig - Using import target: Dataset:7\n",
      "2021-09-28 07:51:37,182 2819       [      main] INFO          ome.formats.importer.ImportConfig - Using import target: Dataset:7\n",
      "2021-09-28 07:51:37,182 2819       [      main] INFO          ome.formats.importer.ImportConfig - Using import target: Dataset:7\n",
      "2021-09-28 07:51:37,202 2839       [2-thread-1] INFO         ome.formats.importer.ImportLibrary - Import target specifies container: Dataset:7\n",
      "2021-09-28 07:51:37,205 2842       [2-thread-1] INFO   ormats.importer.cli.LoggingImportMonitor - FILESET_UPLOAD_PREPARATION\n",
      "2021-09-28 07:51:37,514 3151       [2-thread-1] INFO   ormats.importer.cli.LoggingImportMonitor - FILESET_UPLOAD_START\n",
      "2021-09-28 07:51:37,526 3163       [3-thread-1] INFO   s.importer.transfers.SymlinkFileTransfer - Transferring /OMERO/share/SS7534_1_1_1062343.svs...\n",
      "2021-09-28 07:51:37,579 3216       [3-thread-1] INFO   ormats.importer.cli.LoggingImportMonitor - FILE_UPLOAD_STARTED: /OMERO/share/SS7534_1_1_1062343.svs\n",
      "2021-09-28 07:51:41,838 7475       [3-thread-1] INFO   ormats.importer.cli.LoggingImportMonitor - FILE_UPLOAD_COMPLETE: /OMERO/share/SS7534_1_1_1062343.svs\n",
      "2021-09-28 07:51:41,914 7551       [2-thread-1] INFO   ormats.importer.cli.LoggingImportMonitor - FILESET_UPLOAD_END\n",
      "2021-09-28 07:51:41,995 7632       [2-thread-1] INFO   ormats.importer.cli.LoggingImportMonitor - IMPORT_STARTED Logfile: 113\n",
      "2021-09-28 07:51:42,251 7888       [l.Client-0] INFO   ormats.importer.cli.LoggingImportMonitor - METADATA_IMPORTED Step: 1 of 5  Logfile: 113\n",
      "2021-09-28 07:51:43,342 8979       [l.Client-1] INFO   ormats.importer.cli.LoggingImportMonitor - PIXELDATA_PROCESSED Step: 2 of 5  Logfile: 113\n",
      "2021-09-28 07:51:43,996 9633       [l.Client-0] INFO   ormats.importer.cli.LoggingImportMonitor - THUMBNAILS_GENERATED Step: 3 of 5  Logfile: 113\n",
      "2021-09-28 07:51:44,018 9655       [l.Client-1] INFO   ormats.importer.cli.LoggingImportMonitor - METADATA_PROCESSED Step: 4 of 5  Logfile: 113\n",
      "2021-09-28 07:51:44,034 9671       [l.Client-0] INFO   ormats.importer.cli.LoggingImportMonitor - OBJECTS_RETURNED Step: 5 of 5  Logfile: 113\n",
      "2021-09-28 07:51:44,131 9768       [l.Client-1] INFO   ormats.importer.cli.LoggingImportMonitor - IMPORT_DONE Imported file: /OMERO/share/SS7534_1_1_1062343.svs\n",
      "Other imported objects:\n",
      "Fileset:11\n",
      "2021-09-28 07:51:44,148 9785       [2-thread-1] INFO         ome.formats.importer.ImportLibrary - Import target specifies container: Dataset:7\n",
      "2021-09-28 07:51:44,149 9786       [2-thread-1] INFO   ormats.importer.cli.LoggingImportMonitor - FILESET_UPLOAD_PREPARATION\n"
     ]
    },
    {
     "name": "stdout",
     "output_type": "stream",
     "text": [
      "Image:31,32,33\n"
     ]
    },
    {
     "name": "stderr",
     "output_type": "stream",
     "text": [
      "2021-09-28 07:51:44,368 10005      [2-thread-1] INFO   ormats.importer.cli.LoggingImportMonitor - FILESET_UPLOAD_START\n",
      "2021-09-28 07:51:44,372 10009      [3-thread-1] INFO   s.importer.transfers.SymlinkFileTransfer - Transferring /OMERO/share/SS7534_1_2_1062344.svs...\n",
      "2021-09-28 07:51:44,437 10074      [3-thread-1] INFO   ormats.importer.cli.LoggingImportMonitor - FILE_UPLOAD_STARTED: /OMERO/share/SS7534_1_2_1062344.svs\n",
      "2021-09-28 07:51:45,849 11486      [3-thread-1] INFO   ormats.importer.cli.LoggingImportMonitor - FILE_UPLOAD_COMPLETE: /OMERO/share/SS7534_1_2_1062344.svs\n",
      "2021-09-28 07:51:45,888 11525      [2-thread-1] INFO   ormats.importer.cli.LoggingImportMonitor - FILESET_UPLOAD_END\n",
      "2021-09-28 07:51:45,906 11543      [2-thread-1] INFO   ormats.importer.cli.LoggingImportMonitor - IMPORT_STARTED Logfile: 116\n",
      "2021-09-28 07:51:46,192 11829      [l.Client-1] INFO   ormats.importer.cli.LoggingImportMonitor - METADATA_IMPORTED Step: 1 of 5  Logfile: 116\n",
      "2021-09-28 07:51:47,149 12786      [l.Client-0] INFO   ormats.importer.cli.LoggingImportMonitor - PIXELDATA_PROCESSED Step: 2 of 5  Logfile: 116\n",
      "2021-09-28 07:51:47,829 13466      [l.Client-1] INFO   ormats.importer.cli.LoggingImportMonitor - THUMBNAILS_GENERATED Step: 3 of 5  Logfile: 116\n",
      "2021-09-28 07:51:47,852 13489      [l.Client-0] INFO   ormats.importer.cli.LoggingImportMonitor - METADATA_PROCESSED Step: 4 of 5  Logfile: 116\n",
      "2021-09-28 07:51:47,870 13507      [l.Client-1] INFO   ormats.importer.cli.LoggingImportMonitor - OBJECTS_RETURNED Step: 5 of 5  Logfile: 116\n",
      "2021-09-28 07:51:47,928 13565      [l.Client-0] INFO   ormats.importer.cli.LoggingImportMonitor - IMPORT_DONE Imported file: /OMERO/share/SS7534_1_2_1062344.svs\n",
      "Other imported objects:\n",
      "Fileset:12\n",
      "2021-09-28 07:51:47,944 13581      [2-thread-1] INFO         ome.formats.importer.ImportLibrary - Import target specifies container: Dataset:7\n",
      "2021-09-28 07:51:47,944 13581      [2-thread-1] INFO   ormats.importer.cli.LoggingImportMonitor - FILESET_UPLOAD_PREPARATION\n"
     ]
    },
    {
     "name": "stdout",
     "output_type": "stream",
     "text": [
      "Image:34,35,36\n"
     ]
    },
    {
     "name": "stderr",
     "output_type": "stream",
     "text": [
      "2021-09-28 07:51:48,164 13801      [2-thread-1] INFO   ormats.importer.cli.LoggingImportMonitor - FILESET_UPLOAD_START\n",
      "2021-09-28 07:51:48,168 13805      [3-thread-1] INFO   s.importer.transfers.SymlinkFileTransfer - Transferring /OMERO/share/SS7534_1_5_1062347.svs...\n",
      "2021-09-28 07:51:48,221 13858      [3-thread-1] INFO   ormats.importer.cli.LoggingImportMonitor - FILE_UPLOAD_STARTED: /OMERO/share/SS7534_1_5_1062347.svs\n",
      "2021-09-28 07:51:52,460 18097      [3-thread-1] INFO   ormats.importer.cli.LoggingImportMonitor - FILE_UPLOAD_COMPLETE: /OMERO/share/SS7534_1_5_1062347.svs\n",
      "2021-09-28 07:51:52,509 18146      [2-thread-1] INFO   ormats.importer.cli.LoggingImportMonitor - FILESET_UPLOAD_END\n",
      "2021-09-28 07:51:52,526 18163      [2-thread-1] INFO   ormats.importer.cli.LoggingImportMonitor - IMPORT_STARTED Logfile: 119\n",
      "2021-09-28 07:51:52,781 18418      [l.Client-0] INFO   ormats.importer.cli.LoggingImportMonitor - METADATA_IMPORTED Step: 1 of 5  Logfile: 119\n",
      "2021-09-28 07:51:53,805 19442      [l.Client-1] INFO   ormats.importer.cli.LoggingImportMonitor - PIXELDATA_PROCESSED Step: 2 of 5  Logfile: 119\n",
      "2021-09-28 07:51:54,401 20038      [l.Client-0] INFO   ormats.importer.cli.LoggingImportMonitor - THUMBNAILS_GENERATED Step: 3 of 5  Logfile: 119\n",
      "2021-09-28 07:51:54,421 20058      [l.Client-1] INFO   ormats.importer.cli.LoggingImportMonitor - METADATA_PROCESSED Step: 4 of 5  Logfile: 119\n",
      "2021-09-28 07:51:54,438 20075      [l.Client-0] INFO   ormats.importer.cli.LoggingImportMonitor - OBJECTS_RETURNED Step: 5 of 5  Logfile: 119\n",
      "2021-09-28 07:51:54,496 20133      [l.Client-1] INFO   ormats.importer.cli.LoggingImportMonitor - IMPORT_DONE Imported file: /OMERO/share/SS7534_1_5_1062347.svs\n",
      "Other imported objects:\n",
      "Fileset:13\n",
      "2021-09-28 07:51:54,513 20150      [2-thread-1] INFO         ome.formats.importer.ImportLibrary - Import target specifies container: Dataset:7\n",
      "2021-09-28 07:51:54,513 20150      [2-thread-1] INFO   ormats.importer.cli.LoggingImportMonitor - FILESET_UPLOAD_PREPARATION\n"
     ]
    },
    {
     "name": "stdout",
     "output_type": "stream",
     "text": [
      "Image:37,38,39\n"
     ]
    },
    {
     "name": "stderr",
     "output_type": "stream",
     "text": [
      "2021-09-28 07:51:54,726 20363      [2-thread-1] INFO   ormats.importer.cli.LoggingImportMonitor - FILESET_UPLOAD_START\n",
      "2021-09-28 07:51:54,729 20366      [3-thread-1] INFO   s.importer.transfers.SymlinkFileTransfer - Transferring /OMERO/share/SS7534_1_4_1062346.svs...\n",
      "2021-09-28 07:51:54,787 20424      [3-thread-1] INFO   ormats.importer.cli.LoggingImportMonitor - FILE_UPLOAD_STARTED: /OMERO/share/SS7534_1_4_1062346.svs\n",
      "2021-09-28 07:52:06,930 32567      [3-thread-1] INFO   ormats.importer.cli.LoggingImportMonitor - FILE_UPLOAD_COMPLETE: /OMERO/share/SS7534_1_4_1062346.svs\n",
      "2021-09-28 07:52:06,987 32624      [2-thread-1] INFO   ormats.importer.cli.LoggingImportMonitor - FILESET_UPLOAD_END\n",
      "2021-09-28 07:52:07,003 32640      [2-thread-1] INFO   ormats.importer.cli.LoggingImportMonitor - IMPORT_STARTED Logfile: 122\n",
      "2021-09-28 07:52:07,285 32922      [l.Client-0] INFO   ormats.importer.cli.LoggingImportMonitor - METADATA_IMPORTED Step: 1 of 5  Logfile: 122\n",
      "2021-09-28 07:52:08,350 33987      [l.Client-1] INFO   ormats.importer.cli.LoggingImportMonitor - PIXELDATA_PROCESSED Step: 2 of 5  Logfile: 122\n",
      "2021-09-28 07:52:08,990 34627      [l.Client-0] INFO   ormats.importer.cli.LoggingImportMonitor - THUMBNAILS_GENERATED Step: 3 of 5  Logfile: 122\n",
      "2021-09-28 07:52:09,013 34650      [l.Client-1] INFO   ormats.importer.cli.LoggingImportMonitor - METADATA_PROCESSED Step: 4 of 5  Logfile: 122\n",
      "2021-09-28 07:52:09,029 34666      [l.Client-0] INFO   ormats.importer.cli.LoggingImportMonitor - OBJECTS_RETURNED Step: 5 of 5  Logfile: 122\n",
      "2021-09-28 07:52:09,088 34725      [l.Client-1] INFO   ormats.importer.cli.LoggingImportMonitor - IMPORT_DONE Imported file: /OMERO/share/SS7534_1_4_1062346.svs\n",
      "Other imported objects:\n",
      "Fileset:14\n",
      "2021-09-28 07:52:09,104 34741      [2-thread-1] INFO         ome.formats.importer.ImportLibrary - Import target specifies container: Dataset:7\n",
      "2021-09-28 07:52:09,104 34741      [2-thread-1] INFO   ormats.importer.cli.LoggingImportMonitor - FILESET_UPLOAD_PREPARATION\n"
     ]
    },
    {
     "name": "stdout",
     "output_type": "stream",
     "text": [
      "Image:40,41,42\n"
     ]
    },
    {
     "name": "stderr",
     "output_type": "stream",
     "text": [
      "2021-09-28 07:52:09,296 34933      [2-thread-1] INFO   ormats.importer.cli.LoggingImportMonitor - FILESET_UPLOAD_START\n",
      "2021-09-28 07:52:09,299 34936      [3-thread-1] INFO   s.importer.transfers.SymlinkFileTransfer - Transferring /OMERO/share/SS7534_1_3_1062345.svs...\n",
      "2021-09-28 07:52:09,355 34992      [3-thread-1] INFO   ormats.importer.cli.LoggingImportMonitor - FILE_UPLOAD_STARTED: /OMERO/share/SS7534_1_3_1062345.svs\n",
      "2021-09-28 07:52:17,395 43032      [3-thread-1] INFO   ormats.importer.cli.LoggingImportMonitor - FILE_UPLOAD_COMPLETE: /OMERO/share/SS7534_1_3_1062345.svs\n",
      "2021-09-28 07:52:17,456 43093      [2-thread-1] INFO   ormats.importer.cli.LoggingImportMonitor - FILESET_UPLOAD_END\n",
      "2021-09-28 07:52:17,476 43113      [2-thread-1] INFO   ormats.importer.cli.LoggingImportMonitor - IMPORT_STARTED Logfile: 125\n",
      "2021-09-28 07:52:17,763 43400      [l.Client-1] INFO   ormats.importer.cli.LoggingImportMonitor - METADATA_IMPORTED Step: 1 of 5  Logfile: 125\n",
      "2021-09-28 07:52:18,811 44448      [l.Client-0] INFO   ormats.importer.cli.LoggingImportMonitor - PIXELDATA_PROCESSED Step: 2 of 5  Logfile: 125\n",
      "2021-09-28 07:52:19,605 45242      [l.Client-1] INFO   ormats.importer.cli.LoggingImportMonitor - THUMBNAILS_GENERATED Step: 3 of 5  Logfile: 125\n",
      "2021-09-28 07:52:19,625 45262      [l.Client-0] INFO   ormats.importer.cli.LoggingImportMonitor - METADATA_PROCESSED Step: 4 of 5  Logfile: 125\n",
      "2021-09-28 07:52:19,646 45283      [l.Client-1] INFO   ormats.importer.cli.LoggingImportMonitor - OBJECTS_RETURNED Step: 5 of 5  Logfile: 125\n",
      "2021-09-28 07:52:19,704 45341      [l.Client-0] INFO   ormats.importer.cli.LoggingImportMonitor - IMPORT_DONE Imported file: /OMERO/share/SS7534_1_3_1062345.svs\n",
      "Other imported objects:\n",
      "Fileset:15\n",
      "\n",
      "==> Summary\n",
      "5 files uploaded, 5 filesets created, 15 images imported, 0 errors in 0:00:42.776\n",
      "Using session for root@localhost:4064. Idle timeout: 10 min. Current group: system\n"
     ]
    },
    {
     "name": "stdout",
     "output_type": "stream",
     "text": [
      "Image:43,44,45\n"
     ]
    },
    {
     "data": {
      "text/plain": [
       "0"
      ]
     },
     "execution_count": 9,
     "metadata": {},
     "output_type": "execute_result"
    }
   ],
   "source": [
    "import docker\n",
    "import subprocess\n",
    "\n",
    "client = docker.from_env()\n",
    "running_containers = client.containers.list()\n",
    "sharedir = \"share\" \n",
    "\n",
    "for cont in running_containers:\n",
    "    if \"omero\" and \"server\" in cont.name:\n",
    "        print(cont.name)\n",
    "        ome_server = cont.name\n",
    "        break\n",
    "        \n",
    "subprocess.call([\"docker\", \"exec\", ome_server, \"/opt/omero/server/OMERO.server/bin/omero\", \"-s\" \"localhost\", \"-u\", \"root\", \"login\", \"-w\", \"omero\"])\n",
    "test = subprocess.check_output([\"docker\", \"exec\", ome_server, \"/opt/omero/server/OMERO.server/bin/omero\", \"obj\", \"new\", \"Dataset\", \"name=annotation_dummies\"])\n",
    "test = test.decode().strip()\n",
    "subprocess.call([\"docker\", \"exec\", ome_server, \"/opt/omero/server/OMERO.server/bin/omero\", \"import\", \"-d\", test, \"--transfer=ln_s\", \"/OMERO/{}\".format(sharedir)])"
   ]
  },
  {
   "cell_type": "code",
   "execution_count": 11,
   "id": "7d0e6ba4",
   "metadata": {},
   "outputs": [
    {
     "ename": "ImportError",
     "evalue": "/opt/conda/lib/python3.9/site-packages/IcePy.cpython-39-x86_64-linux-gnu.so: undefined symbol: libiconv_open",
     "output_type": "error",
     "traceback": [
      "\u001b[0;31m---------------------------------------------------------------------------\u001b[0m",
      "\u001b[0;31mImportError\u001b[0m                               Traceback (most recent call last)",
      "\u001b[0;32m/tmp/ipykernel_34/4211531897.py\u001b[0m in \u001b[0;36m<module>\u001b[0;34m\u001b[0m\n\u001b[0;32m----> 1\u001b[0;31m \u001b[0;32mfrom\u001b[0m \u001b[0momero\u001b[0m\u001b[0;34m.\u001b[0m\u001b[0mgateway\u001b[0m \u001b[0;32mimport\u001b[0m \u001b[0mBlitzGateway\u001b[0m\u001b[0;34m,\u001b[0m \u001b[0mMapAnnotationWrapper\u001b[0m\u001b[0;34m\u001b[0m\u001b[0;34m\u001b[0m\u001b[0m\n\u001b[0m\u001b[1;32m      2\u001b[0m \u001b[0;32mfrom\u001b[0m \u001b[0momero\u001b[0m\u001b[0;34m.\u001b[0m\u001b[0mmodel\u001b[0m \u001b[0;32mimport\u001b[0m \u001b[0mEllipseI\u001b[0m\u001b[0;34m\u001b[0m\u001b[0;34m\u001b[0m\u001b[0m\n\u001b[1;32m      3\u001b[0m \u001b[0;34m\u001b[0m\u001b[0m\n\u001b[1;32m      4\u001b[0m \u001b[0;32mclass\u001b[0m \u001b[0mOme_Annot_extractor\u001b[0m\u001b[0;34m(\u001b[0m\u001b[0;34m)\u001b[0m\u001b[0;34m:\u001b[0m\u001b[0;34m\u001b[0m\u001b[0;34m\u001b[0m\u001b[0m\n\u001b[1;32m      5\u001b[0m     \"\"\"\n",
      "\u001b[0;32m/opt/conda/lib/python3.9/site-packages/omero/__init__.py\u001b[0m in \u001b[0;36m<module>\u001b[0;34m\u001b[0m\n\u001b[1;32m     15\u001b[0m \u001b[0;32mfrom\u001b[0m \u001b[0momero_version\u001b[0m \u001b[0;32mimport\u001b[0m \u001b[0momero_version\u001b[0m\u001b[0;34m\u001b[0m\u001b[0;34m\u001b[0m\u001b[0m\n\u001b[1;32m     16\u001b[0m \u001b[0;32mfrom\u001b[0m \u001b[0momero_version\u001b[0m \u001b[0;32mimport\u001b[0m \u001b[0mice_compatibility\u001b[0m \u001b[0;32mas\u001b[0m \u001b[0mcompat\u001b[0m\u001b[0;34m\u001b[0m\u001b[0;34m\u001b[0m\u001b[0m\n\u001b[0;32m---> 17\u001b[0;31m \u001b[0;32mimport\u001b[0m \u001b[0mIce\u001b[0m\u001b[0;34m\u001b[0m\u001b[0;34m\u001b[0m\u001b[0m\n\u001b[0m\u001b[1;32m     18\u001b[0m \u001b[0;32mimport\u001b[0m \u001b[0mos\u001b[0m\u001b[0;34m\u001b[0m\u001b[0;34m\u001b[0m\u001b[0m\n\u001b[1;32m     19\u001b[0m \u001b[0m_sys\u001b[0m \u001b[0;34m=\u001b[0m \u001b[0m__import__\u001b[0m\u001b[0;34m(\u001b[0m\u001b[0;34m\"sys\"\u001b[0m\u001b[0;34m)\u001b[0m\u001b[0;34m\u001b[0m\u001b[0;34m\u001b[0m\u001b[0m\n",
      "\u001b[0;32m/opt/conda/lib/python3.9/site-packages/Ice.py\u001b[0m in \u001b[0;36m<module>\u001b[0;34m\u001b[0m\n\u001b[1;32m     45\u001b[0m \u001b[0;31m# Import the Python extension.\u001b[0m\u001b[0;34m\u001b[0m\u001b[0;34m\u001b[0m\u001b[0;34m\u001b[0m\u001b[0m\n\u001b[1;32m     46\u001b[0m \u001b[0;31m#\u001b[0m\u001b[0;34m\u001b[0m\u001b[0;34m\u001b[0m\u001b[0;34m\u001b[0m\u001b[0m\n\u001b[0;32m---> 47\u001b[0;31m \u001b[0;32mimport\u001b[0m \u001b[0mIcePy\u001b[0m\u001b[0;34m\u001b[0m\u001b[0;34m\u001b[0m\u001b[0m\n\u001b[0m\u001b[1;32m     48\u001b[0m \u001b[0;34m\u001b[0m\u001b[0m\n\u001b[1;32m     49\u001b[0m \u001b[0;31m#\u001b[0m\u001b[0;34m\u001b[0m\u001b[0;34m\u001b[0m\u001b[0;34m\u001b[0m\u001b[0m\n",
      "\u001b[0;31mImportError\u001b[0m: /opt/conda/lib/python3.9/site-packages/IcePy.cpython-39-x86_64-linux-gnu.so: undefined symbol: libiconv_open"
     ]
    }
   ],
   "source": [
    "from omero.gateway import BlitzGateway, MapAnnotationWrapper\n",
    "from omero.model import EllipseI\n",
    "\n",
    "class Ome_Annot_extractor():\n",
    "    \"\"\"\n",
    "        Connection Manager and Methods for extracting annotations from an Omero Host\n",
    "        :param ome_server: Host name\n",
    "        :param user: User\n",
    "        :param pw: Password\n",
    "    \"\"\"\n",
    "    \n",
    "    def __init__(self, user, pw, ome_server):\n",
    "        self.user = user\n",
    "        self.pw = pw\n",
    "        self.server = ome_server\n",
    "        self.conn = None\n",
    "    \n",
    "    \n",
    "    def connect(self):\n",
    "        \"\"\"\n",
    "            Connect to an OMERO server\n",
    "        \"\"\"\n",
    "        self.conn = BlitzGateway(self.user, self.pw,\n",
    "                            host=self.server, secure=False)\n",
    "        self.conn.connect()\n",
    "        self.conn.c.enableKeepAlive(60)\n",
    "    return conn\n",
    "\n",
    "\n",
    "    def disconnect(self):\n",
    "        \"\"\"\n",
    "            Disconnect from an OMERO server\n",
    "            :param conn: The BlitzGateway\n",
    "        \"\"\"\n",
    "        assert self.conn is not None, \"Connection not established please use \"\n",
    "        self.conn.close()\n",
    "    \n",
    "    def list_projects(self):\n",
    "        \"\"\"\n",
    "            List the projects available to the current user\n",
    "        \"\"\"\n",
    "        my_exp_id = self.conn.getUser().getId()\n",
    "        default_group_id = self.conn.getEventContext().groupId\n",
    "        projects =  conn.getObjects(\"Project\", opts={'owner': my_exp_id,\n",
    "                                            'group': default_group_id,\n",
    "                                            'order_by': 'lower(obj.name)',\n",
    "                                            'limit': 5, 'offset': 0})\n",
    "        for project in projects:\n",
    "            print_obj(project)\n",
    "        \n",
    "        return projects\n",
    "    \n",
    "    def select_project(self, sel_project):\n",
    "        projects = self.list_projects()\n",
    "        \n",
    "        \n",
    "    \n",
    "    def list_datasets(self, project):\n",
    "        \"\"\"\n",
    "            List the projects available to the current user\n",
    "            :param projects: List of projects\n",
    "        \"\"\"\n",
    "        pass\n",
    "    \n",
    "    def list_images(self):\n",
    "        pass\n",
    "        \n"
   ]
  },
  {
   "cell_type": "code",
   "execution_count": 10,
   "id": "d54d5d22",
   "metadata": {},
   "outputs": [
    {
     "ename": "NameError",
     "evalue": "name 'Ome_Annot_Extractor' is not defined",
     "output_type": "error",
     "traceback": [
      "\u001b[0;31m---------------------------------------------------------------------------\u001b[0m",
      "\u001b[0;31mNameError\u001b[0m                                 Traceback (most recent call last)",
      "\u001b[0;32m/tmp/ipykernel_34/1815650836.py\u001b[0m in \u001b[0;36m<module>\u001b[0;34m\u001b[0m\n\u001b[0;32m----> 1\u001b[0;31m \u001b[0mome_parse\u001b[0m \u001b[0;34m=\u001b[0m \u001b[0mOme_Annot_Extractor\u001b[0m\u001b[0;34m(\u001b[0m\u001b[0;34m\"root\"\u001b[0m\u001b[0;34m,\u001b[0m \u001b[0;34m\"omero\"\u001b[0m\u001b[0;34m,\u001b[0m \u001b[0mome_server\u001b[0m\u001b[0;34m)\u001b[0m\u001b[0;34m\u001b[0m\u001b[0;34m\u001b[0m\u001b[0m\n\u001b[0m",
      "\u001b[0;31mNameError\u001b[0m: name 'Ome_Annot_Extractor' is not defined"
     ]
    }
   ],
   "source": [
    "ome_parse = Ome_Annot_Extractor(\"root\", \"omero\", ome_server)"
   ]
  },
  {
   "cell_type": "code",
   "execution_count": null,
   "id": "f61e8f1e",
   "metadata": {},
   "outputs": [],
   "source": []
  }
 ],
 "metadata": {
  "kernelspec": {
   "display_name": "Python 3 (ipykernel)",
   "language": "python",
   "name": "python3"
  },
  "language_info": {
   "codemirror_mode": {
    "name": "ipython",
    "version": 3
   },
   "file_extension": ".py",
   "mimetype": "text/x-python",
   "name": "python",
   "nbconvert_exporter": "python",
   "pygments_lexer": "ipython3",
   "version": "3.9.6"
  }
 },
 "nbformat": 4,
 "nbformat_minor": 5
}
